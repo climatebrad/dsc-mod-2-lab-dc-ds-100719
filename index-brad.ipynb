{
 "cells": [
  {
   "cell_type": "markdown",
   "metadata": {},
   "source": [
    "# Module 2 Summative Lab\n",
    "\n",
    "## Introduction\n",
    "\n",
    "For today's section, we're going to work on a single big lab to apply everything we've learned in Mod 2!\n",
    "\n",
    "## About This Lab\n",
    "\n",
    "A quick note before getting started--this lab isn't like other labs you seen so far. This lab is meant to take ~8 hours to complete, so it's much longer and more challenging than the average labs you've seen so far. If you feel like this lab is challenging or that you might be struggling a bit, don't fret--that's by design! With everything we've learned about Web Scraping, APIs, and Databases, the best way to test our knowledge of it is to build something substantial! \n",
    "\n",
    "## The Project\n",
    "\n",
    "In this lab, we're going to make use of everything we've learned about APIs, databases, and Object-Oriented Programming to **_Extract, Transform, and Load_** (or **_ETL_**, for short) some data from a SQL database into a MongoDB Database. \n",
    "\n",
    "You'll find a database containing information about soccer teams and the matches they've played in the file `database.sqlite`. For this project, our goal is to get the data we think is important from this SQL database, do some calculations and data transformation, and then store everything in a MongoDB database. \n",
    "\n",
    "Let's get into the specifics of this project.\n",
    "\n",
    "### The Goal\n",
    "\n",
    "Start by examining the data dictionary for the SQL database we'll be working with, which comes from this [kaggle page](https://www.kaggle.com/laudanum/footballdelphi).  Familiarize yourself with the tables it contains, and what each column means. We'll be using this database to get data on each soccer team, calculate some summary statistics, and then store each in a MongoDB database. \n",
    "\n",
    "Upon completion of this lab, each unique team in this dataset should have a record in the MongoDB instance containing the following information:\n",
    "\n",
    "* The name of the team\n",
    "* The total number of goals scored by the team during the 2011 season\n",
    "* The total number of wins the team earned during the 2011 season\n",
    "* A histogram visualization of the team's wins and losses for the 2011 season (store the visualization directly by assigning it to a variable)\n",
    "* The team's win percentage on days where it was raining during games in the 2011 season. \n",
    "\n"
   ]
  },
  {
   "cell_type": "code",
   "execution_count": null,
   "metadata": {},
   "outputs": [],
   "source": [
    "import pandas as pd\n",
    "import numpy as np\n",
    "import seaborn as sns\n",
    "import matplotlib.pyplot as plt\n",
    "import requests\n",
    "import sqlite3"
   ]
  },
  {
   "cell_type": "code",
   "execution_count": null,
   "metadata": {},
   "outputs": [],
   "source": [
    "con = sqlite3.connect('database.sqlite')\n",
    "pd.read_sql(\"SELECT name FROM sqlite_master WHERE type ='table'\",con)"
   ]
  },
  {
   "cell_type": "code",
   "execution_count": null,
   "metadata": {},
   "outputs": [],
   "source": [
    "df = pd.read_sql(\"\"\"\n",
    "SELECT * \n",
    "FROM Matches\n",
    "\"\"\", con, parse_dates=['Date'])\n",
    "df = df[match_df.Season == 2011]\n",
    "df"
   ]
  },
  {
   "cell_type": "code",
   "execution_count": null,
   "metadata": {},
   "outputs": [],
   "source": [
    "df.query(\"HomeTeam=='Aachen'\")[[\"HomeTeam\",\"FTHG\",\"Date\",\"FTR\"]] \\\n",
    "    .rename(columns={\"HomeTeam\":\"Team\",\"FTHG\":\"Goals\"}) \\\n",
    "      .append(df.query(\"AwayTeam=='Aachen'\")[[\"AwayTeam\",\"FTAG\",\"Date\"]] \\\n",
    "          .rename(columns={\"AwayTeam\":\"Team\",\"FTAG\":\"Goals\"}))"
   ]
  },
  {
   "cell_type": "code",
   "execution_count": null,
   "metadata": {},
   "outputs": [],
   "source": [
    "def ftr_to_winloss(ftr, is_home):\n",
    "    if ftr == 'D':\n",
    "        return ftr\n",
    "    if (is_home and (ftr =='H')) or (not is_home and (ftr == 'A')):\n",
    "        return 'W'\n",
    "    return 'L'\n",
    "\n",
    "df.query(\"HomeTeam=='Aachen'\")[[\"HomeTeam\",\n",
    "                                \"FTHG\",\n",
    "                                \"Date\",\n",
    "                                \"FTR\"]].apply(lambda col: \n",
    "                                                col.apply(lambda row: \n",
    "                                                            ftr_to_winloss(row, True)) if col.name == 'FTR' else col)"
   ]
  },
  {
   "cell_type": "code",
   "execution_count": null,
   "metadata": {},
   "outputs": [],
   "source": [
    "tempdf = df.query(\"HomeTeam=='Aachen'\").copy()\n",
    "tempdf['is_home'] = 1\n",
    "tempdf = tempdf.drop(columns='Season')\n",
    "tempdf.FTR = tempdf.FTR.apply(ftr_to_winloss, args=[True])\n",
    "tempdf = tempdf.rename(columns=lambda x: x.lower())\n",
    "tempdf.rename(columns={'hometeam':'team','awayteam':'opponent','fthg':'goals','ftag':'opp_goals'})"
   ]
  },
  {
   "cell_type": "code",
   "execution_count": null,
   "metadata": {},
   "outputs": [],
   "source": [
    "df.query(\"HomeTeam=='Aachen'\")[[\"HomeTeam\",\"FTHG\",\"Date\",\"FTR\"]].rename(columns={'HomeTeam':'team',1:'goals',2:'date',3:'ftr'})"
   ]
  },
  {
   "cell_type": "code",
   "execution_count": null,
   "metadata": {},
   "outputs": [],
   "source": [
    "list(np.unique(df[[\"HomeTeam\", \"AwayTeam\"]].values.ravel('F')))"
   ]
  },
  {
   "cell_type": "code",
   "execution_count": null,
   "metadata": {},
   "outputs": [],
   "source": [
    "# total goals scored\n",
    "for team in np.unique(df[[\"HomeTeam\", \"AwayTeam\"]].values.ravel('F')):\n",
    "    print(team, \n",
    "          pd.Series(df.query(\"HomeTeam=='{}'\".format(team.replace(\"'\",\"\\\\'\")))[\"FTHG\"]) \\\n",
    "          .append(pd.Series(df.query(\"AwayTeam=='{}'\".format(team.replace(\"'\",\"\\\\'\")))[\"FTAG\"])).sum())"
   ]
  },
  {
   "cell_type": "code",
   "execution_count": null,
   "metadata": {},
   "outputs": [],
   "source": [
    "def game_goals(df, team, home_or_away):\n",
    "    \"\"\"returns pd.Series with goals scored by team; home_or_away is 'H' or 'A'\"\"\"\n",
    "    if home_or_away == 'H':\n",
    "        teamcol = 'HomeTeam'   \n",
    "    elif home_or_away == 'A':\n",
    "        teamcol = 'AwayTeam'\n",
    "    else:\n",
    "        raise ValueError(f\"Invalid value {home_or_away}. Must be 'H' or 'A'.\")\n",
    "    gamecol = 'FT' + home_or_away + 'G'\n",
    "    team_esc = team.replace(\"'\",\"\\\\'\")\n",
    "    return pd.Series(df.query(f\"{teamcol}=='{team_esc}'\")[gamecol])\n",
    "\n",
    "def total_goals(df, team):\n",
    "    \"\"\"returns total goals scored by team\"\"\"\n",
    "    return game_goals(df, team, 'H').append(game_goals(df, team, 'A')).sum()\n",
    "\n",
    "total_goals(df, 'Liverpool')"
   ]
  },
  {
   "cell_type": "code",
   "execution_count": null,
   "metadata": {},
   "outputs": [],
   "source": [
    "# total wins\n",
    "for team in np.unique(df[[\"HomeTeam\", \"AwayTeam\"]].values.ravel('F')):\n",
    "    print(team, df.query(\"(HomeTeam=='{team}' and FTR=='H') or (AwayTeam=='{team}' and FTR=='A')\" \\\n",
    "                   .format(team=team.replace(\"'\",\"\\\\'\"))).shape[0])"
   ]
  },
  {
   "cell_type": "markdown",
   "metadata": {},
   "source": [
    "# Parser"
   ]
  },
  {
   "cell_type": "code",
   "execution_count": null,
   "metadata": {},
   "outputs": [],
   "source": [
    "import soccerparser\n",
    "from soccerparser import SoccerParser\n",
    "import importlib\n",
    "importlib.reload(soccerparser)\n",
    "\n"
   ]
  },
  {
   "cell_type": "code",
   "execution_count": null,
   "metadata": {},
   "outputs": [],
   "source": [
    "sp = SoccerParser('database.sqlite')\n",
    "sp.parse()\n",
    "sp.results_df.head()"
   ]
  },
  {
   "cell_type": "code",
   "execution_count": null,
   "metadata": {},
   "outputs": [],
   "source": [
    "sp.match_df"
   ]
  },
  {
   "cell_type": "code",
   "execution_count": null,
   "metadata": {},
   "outputs": [],
   "source": [
    "sp.match_df.query(\"team=='Swansea'\").head()"
   ]
  },
  {
   "cell_type": "markdown",
   "metadata": {},
   "source": [
    "_A histogram visualization of the team's wins and losses for the 2011 season (store the visualization directly by assigning it to a variable)_\n",
    "\n",
    "Correct this to a win-loss bar chart for each team"
   ]
  },
  {
   "cell_type": "code",
   "execution_count": null,
   "metadata": {},
   "outputs": [],
   "source": [
    "importlib.reload(plt)\n",
    "sns.set(style=\"darkgrid\")\n",
    "team = 'Tottenham'\n",
    "sns.countplot(data=sp.match_df.query(f\"team == '{team}'\"), x='result', order=['W', 'L', 'D'], palette=sns.xkcd_palette(['emerald', 'cherry', 'grey']))\n",
    "plt.title(f\"{team} 2011 Season\", fontsize='x-large')"
   ]
  },
  {
   "cell_type": "code",
   "execution_count": null,
   "metadata": {},
   "outputs": [],
   "source": [
    "fig, ax = sp.team_win_chart('Arsenal')\n",
    "plt.show()"
   ]
  },
  {
   "cell_type": "code",
   "execution_count": null,
   "metadata": {},
   "outputs": [],
   "source": [
    "sp.match_df.query('match_id == 1138')"
   ]
  },
  {
   "cell_type": "code",
   "execution_count": null,
   "metadata": {},
   "outputs": [],
   "source": [
    "sp.match_df.head()"
   ]
  },
  {
   "cell_type": "code",
   "execution_count": null,
   "metadata": {},
   "outputs": [],
   "source": []
  },
  {
   "cell_type": "code",
   "execution_count": null,
   "metadata": {},
   "outputs": [],
   "source": [
    "# You don't have to use these classes, but we recommend them as a good place to start!\n",
    "class WeatherGetter():\n",
    "    pass"
   ]
  },
  {
   "cell_type": "code",
   "execution_count": null,
   "metadata": {},
   "outputs": [],
   "source": [
    "class MongoHandler():\n",
    "    pass"
   ]
  },
  {
   "cell_type": "markdown",
   "metadata": {},
   "source": [
    "#### Getting the Weather Data\n",
    "\n",
    "Note that for this last calculation, you'll need to figure out if it was raining or not during the game. The database itself does not contain this information, but it does contain the date on which the game was played. For this, you'll need to use the [DarkSky API](https://darksky.net/dev) to get the historical weather data for that day. Note that each game is played in a different location, and this information is not contained in our SQL database. However, the teams in this database are largely german, so go ahead and just use the weather in Berlin, Germany as a proxy for this information. If it was raining in Berlin on the day the game was played, count that as rain game--**_you do not need to try and figure out the actual weather at each game's location, because we don't have that information!_**\n",
    "\n",
    "#### NOTE: The DarkSky API is limited to 1000 free API calls a day, so be sure to test your model on very small samples. Otherwise, you'll hit the rate limit!\n",
    "\n"
   ]
  },
  {
   "cell_type": "markdown",
   "metadata": {},
   "source": [
    "## Get team locations"
   ]
  },
  {
   "cell_type": "code",
   "execution_count": null,
   "metadata": {},
   "outputs": [],
   "source": [
    "germany_teams_df = pd.read_html('https://en.wikipedia.org/wiki/List_of_football_clubs_in_Germany')[0]"
   ]
  },
  {
   "cell_type": "code",
   "execution_count": null,
   "metadata": {},
   "outputs": [],
   "source": [
    "my_teams_df = pd.DataFrame(columns=['team', 'city', 'country'])\n",
    "\n",
    "for team in np.unique(df[[\"HomeTeam\", \"AwayTeam\"]].values.ravel('F')):\n",
    "    if not germany_teams_df[germany_teams_df.Club.str.contains(team)]['City'].empty:\n",
    "        city = germany_teams_df[germany_teams_df.Club.str.contains(team)]['City'].values[0]\n",
    "        my_teams_df = my_teams_df.append({'team' : team,\n",
    "                            'city' : city,\n",
    "                            'country' : 'Germany'}, ignore_index = True)\n",
    "\n",
    "my_teams_df"
   ]
  },
  {
   "cell_type": "code",
   "execution_count": null,
   "metadata": {},
   "outputs": [],
   "source": [
    "england_teams_df = pd.read_html('https://en.wikipedia.org/wiki/2011%E2%80%9312_Premier_League')[1]\n",
    "\n",
    "for team in np.unique(df[[\"HomeTeam\", \"AwayTeam\"]].values.ravel('F')):\n",
    "    if not england_teams_df[england_teams_df.Team.str.contains(team)]['Location'].empty:\n",
    "        city = england_teams_df[england_teams_df.Team.str.contains(team)]['Location'].values[0]\n",
    "        my_teams_df = my_teams_df.append({'team' : team,\n",
    "                            'city' : city,\n",
    "                            'country' : 'England'}, ignore_index = True)"
   ]
  },
  {
   "cell_type": "code",
   "execution_count": null,
   "metadata": {},
   "outputs": [],
   "source": [
    "my_teams_df"
   ]
  },
  {
   "cell_type": "code",
   "execution_count": null,
   "metadata": {},
   "outputs": [],
   "source": [
    "from geopy.geocoders import Nominatim"
   ]
  },
  {
   "cell_type": "code",
   "execution_count": null,
   "metadata": {},
   "outputs": [],
   "source": [
    "geolocator = Nominatim(user_agent=\"soccer_weather\")\n",
    "\n",
    "def geolocate(city, country):\n",
    "    city = re.sub(' *\\([^)]*\\)', '', city)\n",
    "    return geolocator.geocode(f\"{city}, {country}\")\n",
    "    \n",
    "from geopy.extra.rate_limiter import RateLimiter\n",
    "# geocode = RateLimiter(geolocator.geocode, min_delay_seconds=1)\n",
    "my_teams_df['location'] = my_teams_df.apply(lambda x: geolocate(x.city, x.country), axis=1)"
   ]
  },
  {
   "cell_type": "code",
   "execution_count": null,
   "metadata": {},
   "outputs": [],
   "source": [
    "my_teams_df['point'] = my_teams_df['location'].apply(lambda loc: tuple(loc.point) if loc else None)"
   ]
  },
  {
   "cell_type": "code",
   "execution_count": null,
   "metadata": {},
   "outputs": [],
   "source": [
    "my_teams_df"
   ]
  },
  {
   "cell_type": "code",
   "execution_count": null,
   "metadata": {},
   "outputs": [],
   "source": [
    "my_teams_df.to_csv('team_locations.csv')"
   ]
  },
  {
   "cell_type": "code",
   "execution_count": null,
   "metadata": {},
   "outputs": [],
   "source": [
    "pd.read_csv('team_locations.csv').query(\"city == 'Berlin'\")['point'].drop_duplicates()"
   ]
  },
  {
   "cell_type": "markdown",
   "metadata": {},
   "source": [
    "## Project Architecture\n",
    "\n",
    "Unlike previous labs, this lab is more open-ended, and will require you to make design decisions and plan out your strategy for building a system with this many working parts. However, **_using Object-Oriented Programming is a requirement for this project--you must create at least 2 separate, well-structured classes in your solution!_** Although it may seem easier to \"just start coding\", this is a classic beginner's mistake. Instead, think about separating out the different functionalities you'll need to reach your goal, and then build classes to handle each. For instance, at a minimum, you'll need to:\n",
    "\n",
    "* Query the SQL database\n",
    "* Calculate summary statistics\n",
    "* Get the weather data from the DarkSky API\n",
    "* Load the data into MongoDB\n",
    "\n",
    "We **_strongly recommend_** you consider creating separate classes for handling at least some of these tasks.  Be sure to plan the inputs, outputs, and methods for each class before you begin coding! \n",
    "\n",
    "**_NOTE:_** We have provided some empty classes below. You are welcome to delete them and use a different architecture for this project if you so choose.  You do not have to use each of them, they are just there to give you an idea of what sorts of classes you may want to consider using.\n",
    "\n",
    "### Rapid Prototyping and Refactoring\n",
    "\n",
    "It's totally okay to try to get a task working without using OOP. For instance, when experimenting with the DarkSky API for getting historical weather data, it makes sense to just write the code in the cells and rapidly iterate until you get it all working. However, once you get it working, you're not done--you should then **_Refactor_** your code into functions or classes to make your code more modular, reusable, understandable, and maintainable! \n",
    "\n",
    "In short--do what you need to do to get each separate piece of functionality working, and then refactor it into a class after you've figured it out!\n",
    "\n",
    "### Some Final Advice\n",
    "\n",
    "You haven't built anything this big or complex thus far, so you may not yet fully realize how much trial and error goes into it. If your code keeps breaking, resist the urge to get frustrated, and just keep working. Software development is an iterative process!  No one writes perfect code that works the first time for something this involved. You're going to run into _a lot_ of small errors in this project, right up until the point where it just works, and then you're done! However, you can reduce these errors by planning out your code, and thinking about how all of the pieces fit together before you begin coding. Once you have some basic understanding of how it all will work, then you'll know what you need to build, and then all that is left is to build it!\n",
    "\n",
    "In short:\n",
    "\n",
    "* Plan ahead--you'll thank yourself later!\n",
    "* Errors and broken code aren't bad, they're normal. \n",
    "* Keep working, and stay confident--you can do this!\n",
    "\n",
    "Good luck--we look forward to seeing your completed project!"
   ]
  },
  {
   "cell_type": "markdown",
   "metadata": {},
   "source": [
    "# Summary\n",
    "\n",
    "In this lab, we dug deep and used everything we've learned so far about python programming, databases, HTTP requests and API calls to ETL data from a SQL database into a MongoDB instance!"
   ]
  }
 ],
 "metadata": {
  "language_info": {
   "name": "python",
   "pygments_lexer": "ipython3"
  }
 },
 "nbformat": 4,
 "nbformat_minor": 2
}
